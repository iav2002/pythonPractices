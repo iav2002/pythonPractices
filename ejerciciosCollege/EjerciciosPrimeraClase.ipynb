{
 "cells": [
  {
   "cell_type": "markdown",
   "id": "32d2a785-48a0-4250-98d8-c782ca8856af",
   "metadata": {},
   "source": [
    "\n",
    "## Write a Python program that displays \"Hello, World!\" in the browser console."
   ]
  },
  {
   "cell_type": "code",
   "execution_count": null,
   "id": "f735a771-4323-4488-bdac-24295c120e3e",
   "metadata": {},
   "outputs": [],
   "source": [
    "print(\"Hello, World!\")"
   ]
  },
  {
   "cell_type": "code",
   "execution_count": null,
   "id": "86899c71-0605-4a67-9dcf-ab1cb73abf2f",
   "metadata": {},
   "outputs": [],
   "source": [
    "def add(n1, n2):\n",
    "  return n1 + n2\n",
    "\n",
    "def subtract(n1, n2):\n",
    "  return n1 - n2\n",
    "\n",
    "def multiply(n1, n2):\n",
    "  return n1 * n2\n",
    "\n",
    "def divide(n1, n2):\n",
    "  if n2 == 0:\n",
    "        return \"syntax error\"\n",
    "  return n1 / n2\n",
    "\n",
    "operations = {\n",
    "  \"+\": add,\n",
    "  \"-\": subtract,\n",
    "  \"*\": multiply,\n",
    "  \"/\": divide\n",
    "}\n",
    "\n",
    "def calculator():\n",
    "\n",
    "  num1 = float(input(\"What's the first number?: \"))\n",
    "  \n",
    "  for symbol in operations:\n",
    "    print(symbol)\n",
    "  should_continue = True\n",
    "  \n",
    "  operation_symbol = input(\"Pick an operation: \")\n",
    "  num2 = float(input(\"What's the next number?: \"))\n",
    "  calculation_function = operations[operation_symbol]\n",
    "  answer = calculation_function(num1, num2)\n",
    "  print(f\"{num1} {operation_symbol} {num2} = {answer}\")\n",
    "\n",
    "calculator()\n"
   ]
  },
  {
   "cell_type": "code",
   "execution_count": null,
   "id": "68d10d14-ac10-477a-a3a7-0d5e3b2ee85d",
   "metadata": {},
   "outputs": [],
   "source": [
    "def add(n1, n2):\n",
    "  return n1 + n2\n",
    "\n",
    "def subtract(n1, n2):\n",
    "  return n1 - n2\n",
    "\n",
    "def multiply(n1, n2):\n",
    "  return n1 * n2\n",
    "\n",
    "def divide(n1, n2):\n",
    "  if n2 == 0:\n",
    "        return \"syntax error\"\n",
    "  return n1 / n2\n",
    "\n",
    "operations = {\n",
    "  \"+\": add,\n",
    "  \"-\": subtract,\n",
    "  \"*\": multiply,\n",
    "  \"/\": divide\n",
    "}\n",
    "\n",
    "def calculator():\n",
    "\n",
    "  num1 = float(input(\"What's the first number?: \"))\n",
    "  \n",
    "  for symbol in operations:\n",
    "    print(symbol)\n",
    "  should_continue = True\n",
    "  \n",
    "  operation_symbol = input(\"Pick an operation: \")\n",
    "  num2 = float(input(\"What's the next number?: \"))\n",
    "  calculation_function = operations[operation_symbol]\n",
    "  answer = calculation_function(num1, num2)\n",
    "  print(f\"{num1} {operation_symbol} {num2} = {answer}\")\n",
    "\n",
    "calculator()\n"
   ]
  },
  {
   "cell_type": "code",
   "execution_count": null,
   "id": "314d5212-beff-4a96-817c-e33f77906c89",
   "metadata": {},
   "outputs": [],
   "source": [
    "for number in range (1,11):\n",
    "    print(number)"
   ]
  },
  {
   "cell_type": "code",
   "execution_count": null,
   "id": "2b95bc40-bb5c-4c6c-ab3f-4813e4c4d696",
   "metadata": {},
   "outputs": [],
   "source": [
    "number = 1\n",
    "while number <= 10 :\n",
    "    print(number)\n",
    "    number+=1"
   ]
  },
  {
   "cell_type": "code",
   "execution_count": null,
   "id": "a2ab4bf1-5066-49d5-a74e-1b678a8fd9af",
   "metadata": {},
   "outputs": [
    {
     "name": "stdout",
     "output_type": "stream",
     "text": [
      "Even\n"
     ]
    }
   ],
   "source": [
    "num = int(input(\"Which is the number you want to check?\"))\n",
    "if num % 2 == 0:\n",
    "    print(\"Even\")\n",
    "else:\n",
    "    print(\"odd\")"
   ]
  },
  {
   "cell_type": "code",
   "execution_count": 1,
   "id": "761bb0f5-612f-4783-ae9e-ce87c8bbe3de",
   "metadata": {},
   "outputs": [
    {
     "name": "stdout",
     "output_type": "stream",
     "text": [
      "ocoLomalleM\n"
     ]
    },
    {
     "ename": "AttributeError",
     "evalue": "'str' object has no attribute 'reverse'",
     "output_type": "error",
     "traceback": [
      "\u001b[0;31m---------------------------------------------------------------------------\u001b[0m",
      "\u001b[0;31mAttributeError\u001b[0m                            Traceback (most recent call last)",
      "Cell \u001b[0;32mIn[1], line 4\u001b[0m\n\u001b[1;32m      1\u001b[0m S \u001b[38;5;241m=\u001b[39m \u001b[38;5;124m\"\u001b[39m\u001b[38;5;124mMellamoLoco\u001b[39m\u001b[38;5;124m\"\u001b[39m[::\u001b[38;5;241m-\u001b[39m\u001b[38;5;241m1\u001b[39m]\n\u001b[1;32m      3\u001b[0m \u001b[38;5;28mprint\u001b[39m(S)\n\u001b[0;32m----> 4\u001b[0m S\u001b[38;5;241m.\u001b[39mreverse()\n",
      "\u001b[0;31mAttributeError\u001b[0m: 'str' object has no attribute 'reverse'"
     ]
    }
   ],
   "source": [
    "S = \"MellamoLoco\"[::-1]\n",
    "\n",
    "print(S)\n",
    "S.reverse()"
   ]
  },
  {
   "cell_type": "code",
   "execution_count": null,
   "id": "466fe515-257d-42e9-9e23-d6195000c769",
   "metadata": {},
   "outputs": [],
   "source": [
    "def reverse(x):\n",
    "    return x[::-1]\n",
    "mytxt = reverse(\"MellamoLoco\")\n",
    "print(mytxt)"
   ]
  },
  {
   "cell_type": "code",
   "execution_count": null,
   "id": "d291105a-4426-4539-8a9b-0a82ff6b1f2d",
   "metadata": {},
   "outputs": [],
   "source": [
    "def is_palindrome(s):\n",
    "\n",
    "    # Remove non-alphanumeric characters and convert to lowercase\n",
    "    cleaned = ''.join(c.lower() for c in s if c.isalnum())\n",
    "    # Check if the cleaned string is equal to its reverse\n",
    "    return cleaned == cleaned[::-1]\n",
    "\n",
    "# Example usage:\n",
    "print(is_palindrome(\"A man, a plan, a canal, Panama\"))  # Output: True\n",
    "print(is_palindrome(\"Hello, World!\"))                   "
   ]
  },
  {
   "cell_type": "code",
   "execution_count": null,
   "id": "a92d0cee-e133-41c2-ac20-c34c0d65c184",
   "metadata": {},
   "outputs": [],
   "source": [
    "for number in range (1,101):\n",
    "    if number % 3 == 0 and number % 5 == 0: #Para los multiplos de 3 print Fizz (en vez del numero\n",
    "        #y los multiplos de 5 imprimir Buzz, para los que sean multiplos de 3 y 5 Escribir FizzBuzz)\n",
    "        print(\"FizzBuzz\")\n",
    "    elif number % 3 == 0:\n",
    "        print(\"Fizz\")\n",
    "    elif number % 5 == 0 :\n",
    "        print(\"Buzz\")\n",
    "    else:\n",
    "        print(number)"
   ]
  },
  {
   "cell_type": "code",
   "execution_count": null,
   "id": "e5a4e627-058d-413b-a615-9cecd602c2a1",
   "metadata": {},
   "outputs": [],
   "source": [
    "stri = input(\"Escribe una Oracion\")\n",
    "print(stri)\n",
    "longest_word = ''\n",
    "for word in stri:\n",
    "        if len(word) > len(longest_word):\n",
    "            longest_word = word\n",
    "print (longest_word)\n"
   ]
  },
  {
   "cell_type": "code",
   "execution_count": null,
   "id": "81eb662f-68a7-4b30-8435-b589152e0d6e",
   "metadata": {},
   "outputs": [],
   "source": [
    "stri = str(input(\"Escribe una Oracion\"))\n",
    "print(stri)\n",
    "longest_word =  max(stri.split(), key=len)\n",
    "\n",
    "print(longest_word)\n"
   ]
  },
  {
   "cell_type": "code",
   "execution_count": null,
   "id": "05d66589-1b3e-4cd5-93ca-2a7112a29627",
   "metadata": {},
   "outputs": [],
   "source": [
    "# Input string to check for vowels\n",
    "input_string = \"Hello, World!\"\n",
    "vowels = \"aeiouAEIOU\"\n",
    "count = 0\n",
    "for char in input_string:\n",
    "    if char in vowels:\n",
    "        count += 1\n",
    "print(\"Number of vowels:\", count)"
   ]
  },
  {
   "cell_type": "code",
   "execution_count": null,
   "id": "377ad72c-8feb-4dc9-ab1b-c11838067bbb",
   "metadata": {},
   "outputs": [],
   "source": [
    "def factorial(n):\n",
    "    # Initialize the result to 1 (since factorial of 0 is 1)\n",
    "    result = 1\n",
    "    \n",
    "    # Loop from 1 to n (inclusive) to multiply each number\n",
    "    for i in range(1, n + 1):\n",
    "        result *= i  # Multiply the current result by i\n",
    "    \n",
    "    return result\n",
    "\n",
    "# Example usage:\n",
    "n = 5\n",
    "print(\"Factorial of\", n, \"is\", factorial(n))"
   ]
  },
  {
   "cell_type": "code",
   "execution_count": null,
   "id": "84a5762e-9209-488b-8eca-6f5de3750675",
   "metadata": {},
   "outputs": [],
   "source": []
  },
  {
   "cell_type": "code",
   "execution_count": null,
   "id": "5b8c0239-a836-4878-aaf7-97fe745b1e90",
   "metadata": {},
   "outputs": [],
   "source": [
    "def sum_of_multiples(limit):\n",
    "    # Initialize the sum to 0\n",
    "    total_sum = 0\n",
    "    \n",
    "    # Loop through all numbers below the limit\n",
    "    for i in range(limit):\n",
    "        # Check if the number is a multiple of 3 or 5\n",
    "        if i % 3 == 0 or i % 5 == 0:\n",
    "            total_sum += i  # Add the multiple to the total sum\n",
    "    return total_sum\n",
    "\n",
    "# Example usage:\n",
    "limit = 10\n",
    "print(\"Sum of multiples of 3 or 5 below\", limit, \"is\", sum_of_multiples(limit))"
   ]
  },
  {
   "cell_type": "code",
   "execution_count": null,
   "id": "c61c314b-8a1c-46bf-88cc-6fb8d3fb1e00",
   "metadata": {},
   "outputs": [],
   "source": [
    "def is_prime(n):\n",
    "    # Check if n is less than 2, which is not prime\n",
    "    if n <= 1:\n",
    "        return False\n",
    "    \n",
    "    # Loop from 2 to the square root of n (inclusive)\n",
    "    for i in range(2, int(n**0.5) + 1):\n",
    "        # If n is divisible by any number between 2 and sqrt(n), it's not prime\n",
    "        if n % i == 0:\n",
    "            return False\n",
    "    \n",
    "    # If no divisors were found, the number is prime\n",
    "    return True\n",
    "\n",
    "# Example usage:\n",
    "number = 29\n",
    "print(number, \"is prime:\", is_prime(number))"
   ]
  },
  {
   "cell_type": "code",
   "execution_count": null,
   "id": "3208b1a7-9b05-45c3-882b-62205300ce0b",
   "metadata": {},
   "outputs": [],
   "source": [
    "def is_prime(n):\n",
    "    # Check if n is less than 2, which is not prime\n",
    "    if n <= 1:\n",
    "        return False\n",
    "    \n",
    "    # Loop from 2 to the square root of n (inclusive)\n",
    "    for i in range(2, int(n**0.5) + 1):\n",
    "        # If n is divisible by any number between 2 and sqrt(n), it's not prime\n",
    "        if n % i == 0:\n",
    "            return False\n",
    "    \n",
    "    # If no divisors were found, the number is prime\n",
    "    return True\n",
    "\n",
    "# Example usage:\n",
    "number = 29\n",
    "print(number, \"is prime:\", is_prime(number))"
   ]
  },
  {
   "cell_type": "code",
   "execution_count": null,
   "id": "d030c979-2ba0-48b3-ad18-ec6144394127",
   "metadata": {},
   "outputs": [],
   "source": [
    "def is_prime(n):\n",
    "    # Check if n is less than 2, which is not prime\n",
    "    if n <= 1:\n",
    "        return False\n",
    "    \n",
    "    # Loop from 2 to the square root of n (inclusive)\n",
    "    for i in range(2, int(n**0.5) + 1):\n",
    "        # If n is divisible by any number between 2 and sqrt(n), it's not prime\n",
    "        if n % i == 0:\n",
    "            return False\n",
    "    \n",
    "    # If no divisors were found, the number is prime\n",
    "    return True\n",
    "\n",
    "# Example usage:\n",
    "number = 29\n",
    "print(number, \"is prime:\", is_prime(number))"
   ]
  },
  {
   "cell_type": "code",
   "execution_count": null,
   "id": "c5fe23d6-b7b2-4dc3-83b1-9da895db34b6",
   "metadata": {},
   "outputs": [],
   "source": [
    "def is_prime(n):\n",
    "    # Check if n is less than 2, which is not prime\n",
    "    if n <= 1:\n",
    "        return False\n",
    "    \n",
    "    # Loop from 2 to the square root of n (inclusive)\n",
    "    for i in range(2, int(n**0.5) + 1):\n",
    "        # If n is divisible by any number between 2 and sqrt(n), it's not prime\n",
    "        if n % i == 0:\n",
    "            return False\n",
    "    \n",
    "    # If no divisors were found, the number is prime\n",
    "    return True\n",
    "\n",
    "# Example usage:\n",
    "number = 29\n",
    "print(number, \"is prime:\", is_prime(number))"
   ]
  },
  {
   "cell_type": "code",
   "execution_count": null,
   "id": "63b951e7-9c22-429d-9c85-6a0f3525bde4",
   "metadata": {},
   "outputs": [],
   "source": [
    "def caesar_cipher(text, shift):\n",
    "    # Initialize an empty string to store the result\n",
    "    result = \"\"\n",
    "    \n",
    "    # Loop through each character in the input text\n",
    "    for char in text:\n",
    "        # Check if the character is an uppercase letter\n",
    "        if char.isupper():\n",
    "            # Shift the character and wrap around using modulo 26\n",
    "            result += chr((ord(char) + shift - 65) % 26 + 65)\n",
    "        # Check if the character is a lowercase letter\n",
    "        elif char.islower():\n",
    "            # Shift the character and wrap around using modulo 26\n",
    "            result += chr((ord(char) + shift - 97) % 26 + 97)\n",
    "        else:\n",
    "            # If it's not a letter, leave it unchanged\n",
    "            result += char\n",
    "    \n",
    "    return result\n",
    "\n",
    "# Example usage:\n",
    "text = \"Hello, World!\"\n",
    "shift = 3\n",
    "print(\"Caesar Cipher:\", caesar_cipher(text, shift))"
   ]
  },
  {
   "cell_type": "code",
   "execution_count": null,
   "id": "c5e69c34-b444-4555-a826-54181aee9f94",
   "metadata": {},
   "outputs": [],
   "source": [
    "alphabet = ['a', 'b', 'c', 'd', 'e', 'f', 'g', 'h', 'i', 'j', 'k', 'l', 'm', 'n', 'o', 'p', 'q', 'r', 's', 't', 'u', 'v', 'w', 'x', 'y', 'z', 'a', 'b', 'c', 'd', 'e', 'f', 'g', 'h', 'i', 'j', 'k', 'l', 'm', 'n', 'o', 'p', 'q', 'r', 's', 't', 'u', 'v', 'w', 'x', 'y', 'z']\n",
    "\n",
    "def caesar(start_text, shift_amount, cipher_direction):\n",
    "  end_text = \"\"\n",
    "  if cipher_direction == \"decode\":\n",
    "    shift_amount *= -1\n",
    "  for char in start_text:\n",
    "    #TODO-3: What happens if the user enters a number/symbol/space?\n",
    "    #Can you fix the code to keep the number/symbol/space when the text is encoded/decoded?\n",
    "    #e.g. start_text = \"meet me at 3\"\n",
    "    #end_text = \"•••• •• •• 3\"\n",
    "    if char in alphabet:\n",
    "      position = alphabet.index(char)\n",
    "      new_position = position + shift_amount\n",
    "      end_text += alphabet[new_position]\n",
    "    else:\n",
    "      end_text += char\n",
    "  print(f\"Here's the {cipher_direction}d result: {end_text}\")\n",
    "\n",
    "\n",
    "#TODO-4: Can you figure out a way to ask the user if they want to restart the cipher program?\n",
    "#e.g. Type 'yes' if you want to go again. Otherwise type 'no'.\n",
    "#If they type 'yes' then ask them for the direction/text/shift again and call the caesar() function again?\n",
    "#Hint: Try creating a while loop that continues to execute the program if the user types 'yes'.\n",
    "should_end = False\n",
    "while not should_end:\n",
    "\n",
    "  direction = input(\"Type 'encode' to encrypt, type 'decode' to decrypt:\\n\")\n",
    "  text = input(\"Type your message:\\n\").lower()\n",
    "  shift = int(input(\"Type the shift number:\\n\"))\n",
    "  #TODO-2: What if the user enters a shift that is greater than the number of letters in the alphabet?\n",
    "  #Try running the program and entering a shift number of 45.\n",
    "  #Add some code so that the program continues to work even if the user enters a shift number greater than 26. \n",
    "  #Hint: Think about how you can use the modulus (%).\n",
    "  shift = shift % 26\n",
    "\n",
    "  caesar(start_text=text, shift_amount=shift, cipher_direction=direction)\n",
    "\n",
    "  restart = input(\"Type 'yes' if you want to go again. Otherwise type 'no'.\\n\")\n",
    "  if restart == \"no\":\n",
    "    should_end = True\n",
    "    print(\"Goodbye\")"
   ]
  }
 ],
 "metadata": {
  "kernelspec": {
   "display_name": "Python 3 (ipykernel)",
   "language": "python",
   "name": "python3"
  },
  "language_info": {
   "codemirror_mode": {
    "name": "ipython",
    "version": 3
   },
   "file_extension": ".py",
   "mimetype": "text/x-python",
   "name": "python",
   "nbconvert_exporter": "python",
   "pygments_lexer": "ipython3",
   "version": "3.12.5"
  }
 },
 "nbformat": 4,
 "nbformat_minor": 5
}
